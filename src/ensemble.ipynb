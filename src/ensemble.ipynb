{
 "cells": [
  {
   "cell_type": "code",
   "execution_count": 1,
   "metadata": {},
   "outputs": [],
   "source": [
    "import os\n",
    "import torch\n",
    "import torchvision\n",
    "import torchvision.transforms as transforms\n",
    "import torch.nn as nn\n",
    "import torch.nn.functional as F\n",
    "import numpy as np\n",
    "import pandas as pd\n",
    "import random\n",
    "import data_utils.data_loading as data_load\n",
    "from data_utils.cifar10_testset import CIFAR10Testset\n",
    "from custom_nets.vgglike import VGGLike\n",
    "\n",
    "random_seed = 42\n",
    "random.seed(random_seed)\n",
    "torch.manual_seed(random_seed)\n",
    "torch.cuda.manual_seed(random_seed)\n",
    "torch.backends.cudnn.deterministic = True\n",
    "torch.backends.cudnn.benchmark = False\n",
    "np.random.seed(random_seed)"
   ]
  },
  {
   "cell_type": "code",
   "execution_count": 2,
   "metadata": {},
   "outputs": [],
   "source": [
    "if not os.path.exists('../tests'):\n",
    "    os.makedirs('../tests')\n",
    "device = torch.device('cuda:0' if torch.cuda.is_available() else 'cpu')\n",
    "batch_size = 32\n",
    "softmax = nn.Softmax(1)"
   ]
  },
  {
   "cell_type": "code",
   "execution_count": 4,
   "metadata": {},
   "outputs": [],
   "source": [
    "transform = transforms.Compose([\n",
    "            transforms.ToTensor(),\n",
    "            transforms.Normalize((0.5, 0.5, 0.5), (0.5, 0.5, 0.5))\n",
    "])\n",
    "testloader, number_of_images = data_load.load_test_data(transform, batch_size)\n",
    "model = VGGLike()\n",
    "model.load_state_dict(torch.load('../nets/cifar_net_Adam001_20220326_132429'))\n",
    "model.to(device)\n",
    "\n",
    "labels = np.empty((number_of_images, 10))\n",
    "total = 0\n",
    "with torch.no_grad():\n",
    "    for data in testloader:\n",
    "        images = data[0].to(device)\n",
    "        outputs = model(images)\n",
    "        labels[total:(total + len(outputs)), :] = softmax(outputs).data.detach().cpu().numpy()\n",
    "        total += len(outputs)\n",
    "del model\n",
    "del testloader"
   ]
  },
  {
   "cell_type": "code",
   "execution_count": 6,
   "metadata": {},
   "outputs": [],
   "source": [
    "transform2 = transforms.Compose([\n",
    "            transforms.Resize(224),\n",
    "            transforms.ToTensor(),\n",
    "            transforms.Normalize([0.485, 0.456, 0.406], [0.229, 0.224, 0.225])\n",
    "])\n",
    "testloader2, _ = data_load.load_test_data(transform2, batch_size)"
   ]
  },
  {
   "cell_type": "code",
   "execution_count": 7,
   "metadata": {},
   "outputs": [],
   "source": [
    "model2 = torchvision.models.resnet18(pretrained=True)\n",
    "num_ftrs = model2.fc.in_features\n",
    "model2.fc = nn.Linear(num_ftrs, 10)\n",
    "model2.load_state_dict(torch.load('../nets/cifar_resnet18_Adam001_20220324_143450'))\n",
    "model2.to(device)\n",
    "\n",
    "labels2 = np.empty((number_of_images, 10))\n",
    "total = 0\n",
    "with torch.no_grad():\n",
    "    for data in testloader2:\n",
    "        images = data[0].to(device)\n",
    "        outputs2 = model2(images)\n",
    "        labels2[total:(total + len(outputs2)), :] = softmax(outputs2).data.detach().cpu().numpy()\n",
    "        total += len(outputs2)\n",
    "del model2"
   ]
  },
  {
   "cell_type": "code",
   "execution_count": 8,
   "metadata": {},
   "outputs": [],
   "source": [
    "model3 = torchvision.models.efficientnet_b0(pretrained=True)\n",
    "num_ftrs = model3.classifier[1].in_features\n",
    "model3.classifier[1] = nn.Linear(num_ftrs, 10)\n",
    "model3.load_state_dict(torch.load('../nets/cifar_efficientnetb0_SGD0019_20220323_141233'))\n",
    "model3.to(device)\n",
    "\n",
    "labels3 = np.empty((number_of_images, 10))\n",
    "total = 0\n",
    "with torch.no_grad():\n",
    "    for data in testloader2:\n",
    "        images = data[0].to(device)\n",
    "        outputs3 = model3(images)\n",
    "        labels3[total:(total + len(outputs3)), :] = softmax(outputs3).data.detach().cpu().numpy()\n",
    "        total += len(outputs3)\n",
    "del testloader2\n",
    "del model3"
   ]
  },
  {
   "cell_type": "code",
   "execution_count": 9,
   "metadata": {},
   "outputs": [],
   "source": [
    "ensemble = labels + labels2 + labels3\n",
    "final_labels = np.argmax(ensemble, axis=1)\n",
    "classes = np.empty(number_of_images, dtype=object)\n",
    "for i, label in enumerate(final_labels):\n",
    "    classes[i] = CIFAR10Testset.label_number_to_class[label]\n",
    "pd.DataFrame(classes, index=range(1, number_of_images + 1), columns=['label']).to_csv('../tests/ensemble.csv', index_label='id')"
   ]
  }
 ],
 "metadata": {
  "interpreter": {
   "hash": "cb6b01cdbc6f85c0bbab83e22df62962e7f020c467ec69fb3ce0a9e253cd235c"
  },
  "kernelspec": {
   "display_name": "Python 3 (ipykernel)",
   "language": "python",
   "name": "python3"
  },
  "language_info": {
   "codemirror_mode": {
    "name": "ipython",
    "version": 3
   },
   "file_extension": ".py",
   "mimetype": "text/x-python",
   "name": "python",
   "nbconvert_exporter": "python",
   "pygments_lexer": "ipython3",
   "version": "3.9.7"
  }
 },
 "nbformat": 4,
 "nbformat_minor": 2
}
